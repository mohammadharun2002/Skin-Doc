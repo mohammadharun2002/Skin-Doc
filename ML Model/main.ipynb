{
 "cells": [
  {
   "cell_type": "code",
   "execution_count": 4,
   "id": "ef94017b-d09c-41ec-9875-4f02c7828a83",
   "metadata": {},
   "outputs": [
    {
     "name": "stdout",
     "output_type": "stream",
     "text": [
      "Collecting scikit-learn\n",
      "  Downloading scikit_learn-1.6.1-cp312-cp312-macosx_10_13_x86_64.whl.metadata (31 kB)\n",
      "Requirement already satisfied: numpy>=1.19.5 in /Users/resonance/miniconda3/lib/python3.12/site-packages (from scikit-learn) (1.26.4)\n",
      "Collecting scipy>=1.6.0 (from scikit-learn)\n",
      "  Downloading scipy-1.15.2-cp312-cp312-macosx_10_13_x86_64.whl.metadata (61 kB)\n",
      "Collecting joblib>=1.2.0 (from scikit-learn)\n",
      "  Using cached joblib-1.4.2-py3-none-any.whl.metadata (5.4 kB)\n",
      "Collecting threadpoolctl>=3.1.0 (from scikit-learn)\n",
      "  Using cached threadpoolctl-3.5.0-py3-none-any.whl.metadata (13 kB)\n",
      "Downloading scikit_learn-1.6.1-cp312-cp312-macosx_10_13_x86_64.whl (12.1 MB)\n",
      "\u001b[2K   \u001b[90m━━━━━━━━━━━━━━━━━━━━━━━━━━━━━━━━━━━━━━━━\u001b[0m \u001b[32m12.1/12.1 MB\u001b[0m \u001b[31m1.5 MB/s\u001b[0m eta \u001b[36m0:00:00\u001b[0m00:01\u001b[0m00:01\u001b[0mm\n",
      "\u001b[?25hUsing cached joblib-1.4.2-py3-none-any.whl (301 kB)\n",
      "Downloading scipy-1.15.2-cp312-cp312-macosx_10_13_x86_64.whl (38.8 MB)\n",
      "\u001b[2K   \u001b[90m━━━━━━━━━━━━━━━━━━━━━━━━━━━━━━━━━━━━━━━━\u001b[0m \u001b[32m38.8/38.8 MB\u001b[0m \u001b[31m2.8 MB/s\u001b[0m eta \u001b[36m0:00:00\u001b[0m00:01\u001b[0m00:01\u001b[0m\n",
      "Using cached threadpoolctl-3.5.0-py3-none-any.whl (18 kB)\n",
      "Installing collected packages: threadpoolctl, scipy, joblib, scikit-learn\n",
      "Successfully installed joblib-1.4.2 scikit-learn-1.6.1 scipy-1.15.2 threadpoolctl-3.5.0\n"
     ]
    },
    {
     "name": "stderr",
     "output_type": "stream",
     "text": [
      "2025-02-24 11:20:15.504599: I tensorflow/core/platform/cpu_feature_guard.cc:210] This TensorFlow binary is optimized to use available CPU instructions in performance-critical operations.\n",
      "To enable the following instructions: AVX2 FMA, in other operations, rebuild TensorFlow with the appropriate compiler flags.\n"
     ]
    }
   ],
   "source": [
    "!pip install scikit-learn\n",
    "import os\n",
    "import cv2\n",
    "import numpy as np\n",
    "from sklearn.model_selection import train_test_split\n",
    "from tensorflow.keras.utils import to_categorical\n",
    "from tensorflow.keras.applications import VGG19\n",
    "from tensorflow.keras.models import Sequential\n",
    "from tensorflow.keras.layers import Dense\n",
    "from sklearn.metrics import classification_report, confusion_matrix"
   ]
  },
  {
   "cell_type": "code",
   "execution_count": 5,
   "id": "28d7e52f-a3af-495d-a2fd-6471e3313029",
   "metadata": {},
   "outputs": [],
   "source": [
    "# Define paths and categories\n",
    "train_path = \"Dataset/train\"\n",
    "categories = [\n",
    "    \"Acne and Rosacea Photos\",\n",
    "    \"Eczema Photos\",\n",
    "    \"Hair Loss Photos Alopecia and other Hair Diseases\",\n",
    "    \"Nail Fungus and other Nail Disease\",\n",
    "    \"Scabies Lyme Disease and other Infestations and Bites\",\n",
    "]"
   ]
  },
  {
   "cell_type": "code",
   "execution_count": 6,
   "id": "90397963-c9d4-4934-b707-ff40a2a73308",
   "metadata": {},
   "outputs": [],
   "source": [
    "# Load images and labels\n",
    "images = []\n",
    "labels = []\n",
    "\n",
    "for idx, category in enumerate(categories):\n",
    "    category_path = os.path.join(train_path, category)\n",
    "    for img_name in os.listdir(category_path):\n",
    "        img_path = os.path.join(category_path, img_name)\n",
    "        img = cv2.imread(img_path)\n",
    "        if img is not None:\n",
    "            img = cv2.cvtColor(img, cv2.COLOR_BGR2RGB)  # Convert to RGB\n",
    "            img = cv2.resize(img, (180, 180))  # Resize to match VGG19 input size\n",
    "            images.append(img)\n",
    "            labels.append(idx)"
   ]
  },
  {
   "cell_type": "code",
   "execution_count": 7,
   "id": "20523e5a-83c8-4d24-8709-8dc74d44efe9",
   "metadata": {},
   "outputs": [],
   "source": [
    "# Convert to numpy arrays\n",
    "images = np.array(images) / 255.0  # Normalize pixel values\n",
    "labels = np.array(labels)"
   ]
  },
  {
   "cell_type": "code",
   "execution_count": 8,
   "id": "5240f2a5-7808-4af8-84f8-67028b841512",
   "metadata": {},
   "outputs": [],
   "source": [
    "# One-hot encode labels\n",
    "num_classes = len(categories)\n",
    "labels = to_categorical(labels, num_classes=num_classes)"
   ]
  },
  {
   "cell_type": "code",
   "execution_count": 9,
   "id": "b645e6f3-da52-4ba7-a38e-f6c374b0fcfb",
   "metadata": {},
   "outputs": [],
   "source": [
    "# Split into training and testing sets\n",
    "x_train, x_test, y_train, y_test = train_test_split(images, labels, test_size=0.2, random_state=42)"
   ]
  },
  {
   "cell_type": "code",
   "execution_count": 10,
   "id": "67e0e33f-8ada-46d3-9ed0-fab74bd40f52",
   "metadata": {},
   "outputs": [
    {
     "name": "stdout",
     "output_type": "stream",
     "text": [
      "Downloading data from https://storage.googleapis.com/tensorflow/keras-applications/vgg19/vgg19_weights_tf_dim_ordering_tf_kernels_notop.h5\n",
      "\u001b[1m80134624/80134624\u001b[0m \u001b[32m━━━━━━━━━━━━━━━━━━━━\u001b[0m\u001b[37m\u001b[0m \u001b[1m13s\u001b[0m 0us/step\n"
     ]
    }
   ],
   "source": [
    "# Load VGG19 model for feature extraction\n",
    "vgg_model = VGG19(weights=\"imagenet\", include_top=False, input_shape=(180, 180, 3))"
   ]
  },
  {
   "cell_type": "code",
   "execution_count": 11,
   "id": "d5634c13-c264-4e4a-a2e5-348fbd0aead2",
   "metadata": {},
   "outputs": [],
   "source": [
    "# Freeze all layers in VGG19\n",
    "for layer in vgg_model.layers:\n",
    "    layer.trainable = False"
   ]
  },
  {
   "cell_type": "code",
   "execution_count": 12,
   "id": "ada9f2a1-329f-4152-bfe4-33ff4b39bfe6",
   "metadata": {},
   "outputs": [
    {
     "name": "stdout",
     "output_type": "stream",
     "text": [
      "\u001b[1m95/95\u001b[0m \u001b[32m━━━━━━━━━━━━━━━━━━━━\u001b[0m\u001b[37m\u001b[0m \u001b[1m426s\u001b[0m 4s/step\n",
      "\u001b[1m24/24\u001b[0m \u001b[32m━━━━━━━━━━━━━━━━━━━━\u001b[0m\u001b[37m\u001b[0m \u001b[1m124s\u001b[0m 5s/step\n"
     ]
    }
   ],
   "source": [
    "# Extract features\n",
    "features_train = vgg_model.predict(x_train)\n",
    "features_test = vgg_model.predict(x_test)"
   ]
  },
  {
   "cell_type": "code",
   "execution_count": 13,
   "id": "0344e85e-a76a-41bf-95bc-090237ff9de9",
   "metadata": {},
   "outputs": [],
   "source": [
    "# Reshape features\n",
    "x_train_features = features_train.reshape(features_train.shape[0], -1)\n",
    "x_test_features = features_test.reshape(features_test.shape[0], -1)"
   ]
  },
  {
   "cell_type": "code",
   "execution_count": 14,
   "id": "205dde25-ea40-4024-aa04-b42461eec1de",
   "metadata": {},
   "outputs": [],
   "source": [
    "# Define a simple dense model\n",
    "model = Sequential([\n",
    "    Dense(200, activation=\"relu\"),\n",
    "    Dense(170, activation=\"relu\"),\n",
    "    Dense(num_classes, activation=\"softmax\")\n",
    "])"
   ]
  },
  {
   "cell_type": "code",
   "execution_count": 15,
   "id": "27fefbbd-e85e-4fbe-9167-1b33b3ed71eb",
   "metadata": {},
   "outputs": [],
   "source": [
    "# Compile the model\n",
    "model.compile(optimizer=\"adam\", loss=\"categorical_crossentropy\", metrics=[\"accuracy\"])"
   ]
  },
  {
   "cell_type": "code",
   "execution_count": 84,
   "id": "a9e176b9-fa66-4ffc-9ef5-188859404e9d",
   "metadata": {},
   "outputs": [
    {
     "name": "stdout",
     "output_type": "stream",
     "text": [
      "Epoch 1/100\n",
      "95/95 [==============================] - 1s 7ms/step - loss: 1.1907 - accuracy: 0.5624 - val_loss: 0.9723 - val_accuracy: 0.6011\n",
      "Epoch 2/100\n",
      "95/95 [==============================] - 0s 3ms/step - loss: 0.8178 - accuracy: 0.6889 - val_loss: 0.7911 - val_accuracy: 0.7107\n",
      "Epoch 3/100\n",
      "95/95 [==============================] - 0s 3ms/step - loss: 0.7068 - accuracy: 0.7279 - val_loss: 0.8196 - val_accuracy: 0.6922\n",
      "Epoch 4/100\n",
      "95/95 [==============================] - 0s 3ms/step - loss: 0.5705 - accuracy: 0.7910 - val_loss: 0.7856 - val_accuracy: 0.7252\n",
      "Epoch 5/100\n",
      "95/95 [==============================] - 0s 3ms/step - loss: 0.5252 - accuracy: 0.8015 - val_loss: 0.7293 - val_accuracy: 0.7252\n",
      "Epoch 6/100\n",
      "95/95 [==============================] - 0s 3ms/step - loss: 0.4320 - accuracy: 0.8415 - val_loss: 1.0648 - val_accuracy: 0.6314\n",
      "Epoch 7/100\n",
      "95/95 [==============================] - 0s 4ms/step - loss: 0.4198 - accuracy: 0.8345 - val_loss: 0.7694 - val_accuracy: 0.7411\n",
      "Epoch 8/100\n",
      "95/95 [==============================] - 0s 4ms/step - loss: 0.3821 - accuracy: 0.8474 - val_loss: 0.7766 - val_accuracy: 0.7226\n",
      "Epoch 9/100\n",
      "95/95 [==============================] - 0s 4ms/step - loss: 0.3263 - accuracy: 0.8798 - val_loss: 0.8181 - val_accuracy: 0.7649\n",
      "Epoch 10/100\n",
      "95/95 [==============================] - 0s 4ms/step - loss: 0.2937 - accuracy: 0.8927 - val_loss: 0.9508 - val_accuracy: 0.6922\n",
      "Epoch 11/100\n",
      "95/95 [==============================] - 0s 4ms/step - loss: 0.2737 - accuracy: 0.8943 - val_loss: 0.8874 - val_accuracy: 0.7147\n",
      "Epoch 12/100\n",
      "95/95 [==============================] - 0s 4ms/step - loss: 0.2498 - accuracy: 0.9052 - val_loss: 0.8319 - val_accuracy: 0.7530\n",
      "Epoch 13/100\n",
      "95/95 [==============================] - 0s 4ms/step - loss: 0.2596 - accuracy: 0.9052 - val_loss: 0.8642 - val_accuracy: 0.7662\n",
      "Epoch 14/100\n",
      "95/95 [==============================] - 0s 4ms/step - loss: 0.2024 - accuracy: 0.9214 - val_loss: 0.8574 - val_accuracy: 0.7649\n",
      "Epoch 15/100\n",
      "95/95 [==============================] - 0s 4ms/step - loss: 0.1882 - accuracy: 0.9283 - val_loss: 0.8839 - val_accuracy: 0.7556\n",
      "Epoch 16/100\n",
      "95/95 [==============================] - 0s 4ms/step - loss: 0.1838 - accuracy: 0.9287 - val_loss: 1.0240 - val_accuracy: 0.7569\n",
      "Epoch 17/100\n",
      "95/95 [==============================] - 0s 4ms/step - loss: 0.1606 - accuracy: 0.9376 - val_loss: 1.1471 - val_accuracy: 0.6764\n",
      "Epoch 18/100\n",
      "95/95 [==============================] - 0s 4ms/step - loss: 0.1752 - accuracy: 0.9323 - val_loss: 1.0862 - val_accuracy: 0.7490\n",
      "Epoch 19/100\n",
      "95/95 [==============================] - 0s 4ms/step - loss: 0.1522 - accuracy: 0.9353 - val_loss: 1.1368 - val_accuracy: 0.7054\n",
      "Epoch 20/100\n",
      "95/95 [==============================] - 0s 4ms/step - loss: 0.1608 - accuracy: 0.9349 - val_loss: 1.0273 - val_accuracy: 0.7464\n",
      "Epoch 21/100\n",
      "95/95 [==============================] - 0s 4ms/step - loss: 0.1307 - accuracy: 0.9498 - val_loss: 1.1440 - val_accuracy: 0.7530\n",
      "Epoch 22/100\n",
      "95/95 [==============================] - 0s 4ms/step - loss: 0.1290 - accuracy: 0.9468 - val_loss: 1.0454 - val_accuracy: 0.7569\n",
      "Epoch 23/100\n",
      "95/95 [==============================] - 0s 4ms/step - loss: 0.1560 - accuracy: 0.9353 - val_loss: 1.0058 - val_accuracy: 0.7345\n",
      "Epoch 24/100\n",
      "95/95 [==============================] - 0s 4ms/step - loss: 0.1739 - accuracy: 0.9290 - val_loss: 1.0398 - val_accuracy: 0.7384\n",
      "Epoch 25/100\n",
      "95/95 [==============================] - 0s 4ms/step - loss: 0.1217 - accuracy: 0.9531 - val_loss: 1.2502 - val_accuracy: 0.7094\n",
      "Epoch 26/100\n",
      "95/95 [==============================] - 0s 4ms/step - loss: 0.1107 - accuracy: 0.9524 - val_loss: 1.4198 - val_accuracy: 0.7120\n",
      "Epoch 27/100\n",
      "95/95 [==============================] - 0s 4ms/step - loss: 0.1544 - accuracy: 0.9359 - val_loss: 1.0569 - val_accuracy: 0.7464\n",
      "Epoch 28/100\n",
      "95/95 [==============================] - 0s 4ms/step - loss: 0.1117 - accuracy: 0.9541 - val_loss: 1.2955 - val_accuracy: 0.7292\n",
      "Epoch 29/100\n",
      "95/95 [==============================] - 0s 4ms/step - loss: 0.0940 - accuracy: 0.9600 - val_loss: 1.2021 - val_accuracy: 0.7649\n",
      "Epoch 30/100\n",
      "95/95 [==============================] - 0s 4ms/step - loss: 0.0976 - accuracy: 0.9594 - val_loss: 1.3222 - val_accuracy: 0.7028\n",
      "Epoch 31/100\n",
      "95/95 [==============================] - 0s 4ms/step - loss: 0.1031 - accuracy: 0.9561 - val_loss: 1.3454 - val_accuracy: 0.7411\n",
      "Epoch 32/100\n",
      "95/95 [==============================] - 0s 4ms/step - loss: 0.0948 - accuracy: 0.9597 - val_loss: 1.4573 - val_accuracy: 0.7252\n",
      "Epoch 33/100\n",
      "95/95 [==============================] - 0s 4ms/step - loss: 0.0844 - accuracy: 0.9620 - val_loss: 1.4571 - val_accuracy: 0.7239\n",
      "Epoch 34/100\n",
      "95/95 [==============================] - 0s 4ms/step - loss: 0.0983 - accuracy: 0.9610 - val_loss: 1.3260 - val_accuracy: 0.7305\n",
      "Epoch 35/100\n",
      "95/95 [==============================] - 0s 4ms/step - loss: 0.1217 - accuracy: 0.9482 - val_loss: 1.3887 - val_accuracy: 0.7332\n",
      "Epoch 36/100\n",
      "95/95 [==============================] - 0s 4ms/step - loss: 0.1062 - accuracy: 0.9557 - val_loss: 1.4021 - val_accuracy: 0.7411\n",
      "Epoch 37/100\n",
      "95/95 [==============================] - 0s 4ms/step - loss: 0.0821 - accuracy: 0.9624 - val_loss: 1.5287 - val_accuracy: 0.7318\n",
      "Epoch 38/100\n",
      "95/95 [==============================] - 0s 4ms/step - loss: 0.0925 - accuracy: 0.9594 - val_loss: 1.8661 - val_accuracy: 0.6869\n",
      "Epoch 39/100\n",
      "95/95 [==============================] - 0s 4ms/step - loss: 0.0945 - accuracy: 0.9577 - val_loss: 1.5647 - val_accuracy: 0.7398\n",
      "Epoch 40/100\n",
      "95/95 [==============================] - 0s 4ms/step - loss: 0.1073 - accuracy: 0.9571 - val_loss: 1.7265 - val_accuracy: 0.6843\n",
      "Epoch 41/100\n",
      "95/95 [==============================] - 0s 4ms/step - loss: 0.1191 - accuracy: 0.9524 - val_loss: 1.2766 - val_accuracy: 0.7556\n",
      "Epoch 42/100\n",
      "95/95 [==============================] - 0s 4ms/step - loss: 0.0626 - accuracy: 0.9716 - val_loss: 1.3426 - val_accuracy: 0.7450\n",
      "Epoch 43/100\n",
      "95/95 [==============================] - 0s 4ms/step - loss: 0.0604 - accuracy: 0.9729 - val_loss: 1.5268 - val_accuracy: 0.7279\n",
      "Epoch 44/100\n",
      "95/95 [==============================] - 0s 4ms/step - loss: 0.0631 - accuracy: 0.9716 - val_loss: 1.4769 - val_accuracy: 0.7517\n",
      "Epoch 45/100\n",
      "95/95 [==============================] - 0s 4ms/step - loss: 0.0627 - accuracy: 0.9709 - val_loss: 1.7079 - val_accuracy: 0.7424\n",
      "Epoch 46/100\n",
      "95/95 [==============================] - 0s 4ms/step - loss: 0.0588 - accuracy: 0.9726 - val_loss: 1.5091 - val_accuracy: 0.7464\n",
      "Epoch 47/100\n",
      "95/95 [==============================] - 0s 4ms/step - loss: 0.0511 - accuracy: 0.9746 - val_loss: 1.9484 - val_accuracy: 0.6896\n",
      "Epoch 48/100\n",
      "95/95 [==============================] - 0s 4ms/step - loss: 0.0780 - accuracy: 0.9653 - val_loss: 1.6422 - val_accuracy: 0.7583\n",
      "Epoch 49/100\n",
      "95/95 [==============================] - 0s 4ms/step - loss: 0.0630 - accuracy: 0.9713 - val_loss: 1.7693 - val_accuracy: 0.7371\n",
      "Epoch 50/100\n",
      "95/95 [==============================] - 0s 4ms/step - loss: 0.1506 - accuracy: 0.9429 - val_loss: 1.8326 - val_accuracy: 0.7186\n",
      "Epoch 51/100\n",
      "95/95 [==============================] - 0s 4ms/step - loss: 0.1509 - accuracy: 0.9359 - val_loss: 1.4443 - val_accuracy: 0.7239\n",
      "Epoch 52/100\n",
      "95/95 [==============================] - 0s 4ms/step - loss: 0.0664 - accuracy: 0.9673 - val_loss: 1.5870 - val_accuracy: 0.7384\n",
      "Epoch 53/100\n",
      "95/95 [==============================] - 0s 4ms/step - loss: 0.0436 - accuracy: 0.9769 - val_loss: 2.0717 - val_accuracy: 0.6962\n",
      "Epoch 54/100\n",
      "95/95 [==============================] - 0s 4ms/step - loss: 0.0662 - accuracy: 0.9690 - val_loss: 1.8180 - val_accuracy: 0.7688\n",
      "Epoch 55/100\n",
      "95/95 [==============================] - 0s 4ms/step - loss: 0.0521 - accuracy: 0.9739 - val_loss: 1.5919 - val_accuracy: 0.7437\n",
      "Epoch 56/100\n",
      "95/95 [==============================] - 0s 4ms/step - loss: 0.0432 - accuracy: 0.9775 - val_loss: 1.9486 - val_accuracy: 0.7583\n",
      "Epoch 57/100\n",
      "95/95 [==============================] - 0s 4ms/step - loss: 0.0523 - accuracy: 0.9726 - val_loss: 1.8908 - val_accuracy: 0.7318\n",
      "Epoch 58/100\n",
      "95/95 [==============================] - 0s 4ms/step - loss: 0.0861 - accuracy: 0.9630 - val_loss: 2.0447 - val_accuracy: 0.7266\n",
      "Epoch 59/100\n",
      "95/95 [==============================] - 0s 4ms/step - loss: 0.0883 - accuracy: 0.9597 - val_loss: 1.9970 - val_accuracy: 0.7120\n",
      "Epoch 60/100\n",
      "95/95 [==============================] - 0s 4ms/step - loss: 0.1033 - accuracy: 0.9574 - val_loss: 1.3518 - val_accuracy: 0.7609\n",
      "Epoch 61/100\n",
      "95/95 [==============================] - 0s 4ms/step - loss: 0.0486 - accuracy: 0.9756 - val_loss: 1.6103 - val_accuracy: 0.7094\n",
      "Epoch 62/100\n",
      "95/95 [==============================] - 0s 4ms/step - loss: 0.0478 - accuracy: 0.9799 - val_loss: 1.5790 - val_accuracy: 0.7503\n",
      "Epoch 63/100\n",
      "95/95 [==============================] - 0s 4ms/step - loss: 0.0692 - accuracy: 0.9670 - val_loss: 1.9372 - val_accuracy: 0.6592\n",
      "Epoch 64/100\n",
      "95/95 [==============================] - 0s 4ms/step - loss: 0.0875 - accuracy: 0.9607 - val_loss: 1.5575 - val_accuracy: 0.7490\n",
      "Epoch 65/100\n",
      "95/95 [==============================] - 0s 4ms/step - loss: 0.0498 - accuracy: 0.9749 - val_loss: 1.6397 - val_accuracy: 0.7345\n",
      "Epoch 66/100\n",
      "95/95 [==============================] - 0s 4ms/step - loss: 0.0607 - accuracy: 0.9706 - val_loss: 1.6274 - val_accuracy: 0.7371\n",
      "Epoch 67/100\n",
      "95/95 [==============================] - 0s 4ms/step - loss: 0.0589 - accuracy: 0.9703 - val_loss: 1.6731 - val_accuracy: 0.7503\n",
      "Epoch 68/100\n",
      "95/95 [==============================] - 0s 4ms/step - loss: 0.0410 - accuracy: 0.9766 - val_loss: 1.7883 - val_accuracy: 0.7490\n",
      "Epoch 69/100\n",
      "95/95 [==============================] - 0s 4ms/step - loss: 0.0478 - accuracy: 0.9775 - val_loss: 1.6941 - val_accuracy: 0.7543\n",
      "Epoch 70/100\n",
      "95/95 [==============================] - 0s 4ms/step - loss: 0.0383 - accuracy: 0.9789 - val_loss: 1.6576 - val_accuracy: 0.7490\n",
      "Epoch 71/100\n",
      "95/95 [==============================] - 0s 4ms/step - loss: 0.1327 - accuracy: 0.9491 - val_loss: 1.7826 - val_accuracy: 0.7213\n",
      "Epoch 72/100\n",
      "95/95 [==============================] - 0s 4ms/step - loss: 0.0888 - accuracy: 0.9620 - val_loss: 1.5864 - val_accuracy: 0.7450\n",
      "Epoch 73/100\n",
      "95/95 [==============================] - 0s 4ms/step - loss: 0.0881 - accuracy: 0.9620 - val_loss: 1.7264 - val_accuracy: 0.7252\n",
      "Epoch 74/100\n",
      "95/95 [==============================] - 0s 4ms/step - loss: 0.0771 - accuracy: 0.9614 - val_loss: 1.6019 - val_accuracy: 0.7437\n",
      "Epoch 75/100\n",
      "95/95 [==============================] - 0s 4ms/step - loss: 0.0450 - accuracy: 0.9789 - val_loss: 1.3917 - val_accuracy: 0.7781\n",
      "Epoch 76/100\n",
      "95/95 [==============================] - 0s 4ms/step - loss: 0.0406 - accuracy: 0.9766 - val_loss: 1.7060 - val_accuracy: 0.7622\n",
      "Epoch 77/100\n",
      "95/95 [==============================] - 0s 4ms/step - loss: 0.0326 - accuracy: 0.9802 - val_loss: 1.5751 - val_accuracy: 0.7622\n",
      "Epoch 78/100\n",
      "95/95 [==============================] - 0s 4ms/step - loss: 0.0409 - accuracy: 0.9752 - val_loss: 1.6509 - val_accuracy: 0.7583\n",
      "Epoch 79/100\n",
      "95/95 [==============================] - 0s 4ms/step - loss: 0.0607 - accuracy: 0.9716 - val_loss: 1.5686 - val_accuracy: 0.7490\n",
      "Epoch 80/100\n",
      "95/95 [==============================] - 0s 4ms/step - loss: 0.0382 - accuracy: 0.9818 - val_loss: 1.9606 - val_accuracy: 0.7239\n",
      "Epoch 81/100\n",
      "95/95 [==============================] - 0s 4ms/step - loss: 0.0396 - accuracy: 0.9802 - val_loss: 1.9006 - val_accuracy: 0.7358\n",
      "Epoch 82/100\n",
      "95/95 [==============================] - 0s 4ms/step - loss: 0.0332 - accuracy: 0.9799 - val_loss: 1.9186 - val_accuracy: 0.7358\n",
      "Epoch 83/100\n",
      "95/95 [==============================] - 0s 4ms/step - loss: 0.0343 - accuracy: 0.9802 - val_loss: 1.6841 - val_accuracy: 0.7569\n",
      "Epoch 84/100\n",
      "95/95 [==============================] - 0s 4ms/step - loss: 0.0294 - accuracy: 0.9841 - val_loss: 1.8346 - val_accuracy: 0.7622\n",
      "Epoch 85/100\n",
      "95/95 [==============================] - 0s 4ms/step - loss: 0.0994 - accuracy: 0.9587 - val_loss: 1.7795 - val_accuracy: 0.7371\n",
      "Epoch 86/100\n",
      "95/95 [==============================] - 0s 4ms/step - loss: 0.0605 - accuracy: 0.9732 - val_loss: 1.8662 - val_accuracy: 0.7305\n",
      "Epoch 87/100\n",
      "95/95 [==============================] - 0s 4ms/step - loss: 0.0423 - accuracy: 0.9759 - val_loss: 1.7122 - val_accuracy: 0.7464\n",
      "Epoch 88/100\n",
      "95/95 [==============================] - 0s 4ms/step - loss: 0.0333 - accuracy: 0.9808 - val_loss: 1.7275 - val_accuracy: 0.7530\n",
      "Epoch 89/100\n",
      "95/95 [==============================] - 0s 4ms/step - loss: 0.0453 - accuracy: 0.9762 - val_loss: 1.7357 - val_accuracy: 0.7424\n",
      "Epoch 90/100\n",
      "95/95 [==============================] - 0s 4ms/step - loss: 0.0434 - accuracy: 0.9789 - val_loss: 1.9383 - val_accuracy: 0.7450\n",
      "Epoch 91/100\n",
      "95/95 [==============================] - 0s 4ms/step - loss: 0.0375 - accuracy: 0.9782 - val_loss: 2.1400 - val_accuracy: 0.7186\n",
      "Epoch 92/100\n",
      "95/95 [==============================] - 0s 4ms/step - loss: 0.0693 - accuracy: 0.9680 - val_loss: 1.9116 - val_accuracy: 0.7279\n",
      "Epoch 93/100\n",
      "95/95 [==============================] - 0s 4ms/step - loss: 0.1208 - accuracy: 0.9488 - val_loss: 1.7784 - val_accuracy: 0.7160\n",
      "Epoch 94/100\n",
      "95/95 [==============================] - 0s 4ms/step - loss: 0.0585 - accuracy: 0.9713 - val_loss: 1.9473 - val_accuracy: 0.7199\n",
      "Epoch 95/100\n",
      "95/95 [==============================] - 0s 4ms/step - loss: 0.0639 - accuracy: 0.9699 - val_loss: 1.6488 - val_accuracy: 0.7569\n",
      "Epoch 96/100\n",
      "95/95 [==============================] - 0s 4ms/step - loss: 0.0313 - accuracy: 0.9818 - val_loss: 1.7198 - val_accuracy: 0.7622\n",
      "Epoch 97/100\n",
      "95/95 [==============================] - 0s 4ms/step - loss: 0.0399 - accuracy: 0.9792 - val_loss: 1.7466 - val_accuracy: 0.7503\n",
      "Epoch 98/100\n",
      "95/95 [==============================] - 0s 4ms/step - loss: 0.0383 - accuracy: 0.9775 - val_loss: 1.7031 - val_accuracy: 0.7583\n",
      "Epoch 99/100\n",
      "95/95 [==============================] - 0s 4ms/step - loss: 0.0272 - accuracy: 0.9825 - val_loss: 1.8091 - val_accuracy: 0.7503\n",
      "Epoch 100/100\n",
      "95/95 [==============================] - 0s 4ms/step - loss: 0.0273 - accuracy: 0.9818 - val_loss: 1.8344 - val_accuracy: 0.7530\n"
     ]
    }
   ],
   "source": [
    "# Train the model\n",
    "history = model.fit(\n",
    "    x_train_features, y_train,\n",
    "    validation_data=(x_test_features, y_test),\n",
    "    epochs=100,\n",
    "    batch_size=32\n",
    ")"
   ]
  },
  {
   "cell_type": "code",
   "execution_count": 85,
   "id": "3101eb5c-4cae-4a3a-84c7-a1a74a618b7a",
   "metadata": {},
   "outputs": [
    {
     "name": "stdout",
     "output_type": "stream",
     "text": [
      "24/24 [==============================] - 0s 5ms/step - loss: 1.8344 - accuracy: 0.7530\n",
      "Test Accuracy: 75.30%\n"
     ]
    }
   ],
   "source": [
    "# Evaluate the model\n",
    "loss, accuracy = model.evaluate(x_test_features, y_test)\n",
    "print(f\"Test Accuracy: {accuracy * 100:.2f}%\")"
   ]
  },
  {
   "cell_type": "code",
   "execution_count": 86,
   "id": "c4696926-f049-464c-a03a-efd7bb73904f",
   "metadata": {},
   "outputs": [],
   "source": [
    "model.save(\"skin_disease_model.h5\")"
   ]
  },
  {
   "cell_type": "code",
   "execution_count": 87,
   "id": "0c5d3d40-5c24-4581-b50a-0ebad1da0176",
   "metadata": {},
   "outputs": [],
   "source": [
    "# Function to predict skin disease\n",
    "def predict_skin_disease(image_path):\n",
    "    # Load and preprocess image\n",
    "    img = cv2.imread(image_path)\n",
    "    img = cv2.cvtColor(img, cv2.COLOR_BGR2RGB)\n",
    "    img = cv2.resize(img, (180, 180))\n",
    "    img = np.array(img) / 255.0\n",
    "    img = np.expand_dims(img, axis=0)\n",
    "\n",
    "    # Extract features using VGG19\n",
    "    img_features = vgg_model.predict(img)\n",
    "    img_features = img_features.reshape(1, -1)\n",
    "\n",
    "    # Make prediction\n",
    "    pred = model.predict(img_features)[0]\n",
    "    predicted_class = np.argmax(pred)\n",
    "    return categories[predicted_class]"
   ]
  },
  {
   "cell_type": "code",
   "execution_count": 92,
   "id": "5cbfb67d-deb8-4411-bebc-ba54d659e87c",
   "metadata": {},
   "outputs": [
    {
     "name": "stdout",
     "output_type": "stream",
     "text": [
      "1/1 [==============================] - 0s 149ms/step\n",
      "1/1 [==============================] - 0s 33ms/step\n",
      "Predicted Disease: Acne and Rosacea Photos\n"
     ]
    }
   ],
   "source": [
    "# Test the function\n",
    "test_image_path = \"Dataset/test/Acne and Rosacea Photos/07SteroidPerioral.jpg\"\n",
    "predicted_disease = predict_skin_disease(test_image_path)\n",
    "print(f\"Predicted Disease: {predicted_disease}\")"
   ]
  },
  {
   "cell_type": "code",
   "execution_count": null,
   "id": "a211ddca-e279-4e68-bab2-52470198a643",
   "metadata": {},
   "outputs": [],
   "source": []
  },
  {
   "cell_type": "code",
   "execution_count": null,
   "id": "2f189852-664c-46f4-8fc5-9bcb85890f5a",
   "metadata": {},
   "outputs": [],
   "source": []
  }
 ],
 "metadata": {
  "kernelspec": {
   "display_name": "Python 3 (ipykernel)",
   "language": "python",
   "name": "python3"
  },
  "language_info": {
   "codemirror_mode": {
    "name": "ipython",
    "version": 3
   },
   "file_extension": ".py",
   "mimetype": "text/x-python",
   "name": "python",
   "nbconvert_exporter": "python",
   "pygments_lexer": "ipython3",
   "version": "3.12.9"
  }
 },
 "nbformat": 4,
 "nbformat_minor": 5
}
